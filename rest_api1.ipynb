{
 "cells": [
  {
   "cell_type": "code",
   "execution_count": null,
   "metadata": {},
   "outputs": [
    {
     "ename": "",
     "evalue": "",
     "output_type": "error",
     "traceback": [
      "\u001b[1;31mRunning cells with 'Python 3.8.2 ('venv2airflow')' requires ipykernel package.\n",
      "\u001b[1;31mRun the following command to install 'ipykernel' into the Python environment. \n",
      "\u001b[1;31mCommand: '/home/radekt/venv2airflow/bin/python3.8 -m pip install ipykernel -U --force-reinstall'"
     ]
    }
   ],
   "source": [
    "#curl -k  -u ingest_pipeline-s -X GET \"https://mapr-web.advantagedp.org:20202/ws/v1/cluster/apps?user=ingest_pipeline-s&finalStatus=SUCCEEDED&startedTimeBegin=1568491200000\" | jq ."
   ]
  },
  {
   "cell_type": "code",
   "execution_count": null,
   "metadata": {},
   "outputs": [
    {
     "ename": "",
     "evalue": "",
     "output_type": "error",
     "traceback": [
      "\u001b[1;31mRunning cells with 'Python 3.8.2 ('venv2airflow')' requires ipykernel package.\n",
      "\u001b[1;31mRun the following command to install 'ipykernel' into the Python environment. \n",
      "\u001b[1;31mCommand: '/home/radekt/venv2airflow/bin/python3.8 -m pip install ipykernel -U --force-reinstall'"
     ]
    }
   ],
   "source": [
    "import requests\n",
    "import pandas as pd \n",
    "r = requests.get('https://xkcd.com/353/')\n",
    "print( r )\n",
    "print( r.status_code)"
   ]
  },
  {
   "cell_type": "code",
   "execution_count": null,
   "metadata": {},
   "outputs": [
    {
     "ename": "",
     "evalue": "",
     "output_type": "error",
     "traceback": [
      "\u001b[1;31mRunning cells with 'Python 3.8.2 ('venv2airflow')' requires ipykernel package.\n",
      "\u001b[1;31mRun the following command to install 'ipykernel' into the Python environment. \n",
      "\u001b[1;31mCommand: '/home/radekt/venv2airflow/bin/python3.8 -m pip install ipykernel -U --force-reinstall'"
     ]
    }
   ],
   "source": [
    "# print( r.text)# zwraca kod html strony \n",
    "print( r.ok )\n",
    "\n",
    "print( r.headers)"
   ]
  },
  {
   "cell_type": "code",
   "execution_count": null,
   "metadata": {},
   "outputs": [
    {
     "ename": "",
     "evalue": "",
     "output_type": "error",
     "traceback": [
      "\u001b[1;31mRunning cells with 'Python 3.8.2 ('venv2airflow')' requires ipykernel package.\n",
      "\u001b[1;31mRun the following command to install 'ipykernel' into the Python environment. \n",
      "\u001b[1;31mCommand: '/home/radekt/venv2airflow/bin/python3.8 -m pip install ipykernel -U --force-reinstall'"
     ]
    }
   ],
   "source": [
    "# http://httpbin.org/\n",
    "payload = {'page':2, 'count':25 }\n",
    "rr = requests.get('http://httpbin.org/get',params=payload)\n",
    "print( rr.text)\n",
    "print( rr.url)"
   ]
  },
  {
   "cell_type": "code",
   "execution_count": null,
   "metadata": {},
   "outputs": [
    {
     "ename": "",
     "evalue": "",
     "output_type": "error",
     "traceback": [
      "\u001b[1;31mRunning cells with 'Python 3.8.2 ('venv2airflow')' requires ipykernel package.\n",
      "\u001b[1;31mRun the following command to install 'ipykernel' into the Python environment. \n",
      "\u001b[1;31mCommand: '/home/radekt/venv2airflow/bin/python3.8 -m pip install ipykernel -U --force-reinstall'"
     ]
    }
   ],
   "source": [
    "payload2 = {'username':'radek', 'password':'haslo'}\n",
    "rrr = requests.post('http://httpbin.org/post',data=payload2)\n",
    "r_dict = rrr.json()\n",
    "print( r_dict)\n",
    "print( r_dict['form'] )"
   ]
  },
  {
   "cell_type": "code",
   "execution_count": null,
   "metadata": {},
   "outputs": [
    {
     "ename": "",
     "evalue": "",
     "output_type": "error",
     "traceback": [
      "\u001b[1;31mRunning cells with 'Python 3.8.2 ('venv2airflow')' requires ipykernel package.\n",
      "\u001b[1;31mRun the following command to install 'ipykernel' into the Python environment. \n",
      "\u001b[1;31mCommand: '/home/radekt/venv2airflow/bin/python3.8 -m pip install ipykernel -U --force-reinstall'"
     ]
    }
   ],
   "source": [
    "s = requests.get('http://httpbin.org/basic-auth/radek/haslo', auth=('radek','haslo'))\n",
    "print( s.text )\n"
   ]
  },
  {
   "cell_type": "code",
   "execution_count": null,
   "metadata": {},
   "outputs": [
    {
     "ename": "",
     "evalue": "",
     "output_type": "error",
     "traceback": [
      "\u001b[1;31mRunning cells with 'Python 3.8.2 ('venv2airflow')' requires ipykernel package.\n",
      "\u001b[1;31mRun the following command to install 'ipykernel' into the Python environment. \n",
      "\u001b[1;31mCommand: '/home/radekt/venv2airflow/bin/python3.8 -m pip install ipykernel -U --force-reinstall'"
     ]
    }
   ],
   "source": [
    "import os\n",
    "\n",
    "os.chdir(\"/home/radekt/boson_repo/appdevops-tools/utilities/python_proxy_setup\")\n",
    "\n",
    "from proxy_setup import get_proxy_setup\n",
    "\n",
    "x = get_proxy_setup()\n",
    "\n",
    "x"
   ]
  },
  {
   "cell_type": "code",
   "execution_count": null,
   "metadata": {},
   "outputs": [
    {
     "ename": "",
     "evalue": "",
     "output_type": "error",
     "traceback": [
      "\u001b[1;31mRunning cells with 'Python 3.8.2 ('venv2airflow')' requires ipykernel package.\n",
      "\u001b[1;31mRun the following command to install 'ipykernel' into the Python environment. \n",
      "\u001b[1;31mCommand: '/home/radekt/venv2airflow/bin/python3.8 -m pip install ipykernel -U --force-reinstall'"
     ]
    }
   ],
   "source": [
    "from requests.auth import HTTPBasicAuth\n",
    "\n",
    "\n",
    "url = 'https://mapr-web.advantagedp.org:20202/ws/v1/cluster/apps?user=ingest_pipeline-s&finalStatus=SUCCEEDED&startedTimeBegin=1568491200000'\n",
    "\n",
    "auth = HTTPBasicAuth('ingest_pipeline-s', '1Rt.d5WssojT.2')\n",
    "\n",
    "\n",
    "proxies = {'http': 'socks5h://192.168.67.2:1081','https': 'socks5h://192.168.67.2:1081'}"
   ]
  },
  {
   "cell_type": "code",
   "execution_count": null,
   "metadata": {},
   "outputs": [
    {
     "ename": "",
     "evalue": "",
     "output_type": "error",
     "traceback": [
      "\u001b[1;31mRunning cells with 'Python 3.8.2 ('venv2airflow')' requires ipykernel package.\n",
      "\u001b[1;31mRun the following command to install 'ipykernel' into the Python environment. \n",
      "\u001b[1;31mCommand: '/home/radekt/venv2airflow/bin/python3.8 -m pip install ipykernel -U --force-reinstall'"
     ]
    }
   ],
   "source": [
    "r = requests.get(url, auth=auth, proxies=proxies, verify=False)\n",
    "\n",
    "\n"
   ]
  },
  {
   "cell_type": "code",
   "execution_count": null,
   "metadata": {},
   "outputs": [
    {
     "ename": "",
     "evalue": "",
     "output_type": "error",
     "traceback": [
      "\u001b[1;31mRunning cells with 'Python 3.8.2 ('venv2airflow')' requires ipykernel package.\n",
      "\u001b[1;31mRun the following command to install 'ipykernel' into the Python environment. \n",
      "\u001b[1;31mCommand: '/home/radekt/venv2airflow/bin/python3.8 -m pip install ipykernel -U --force-reinstall'"
     ]
    }
   ],
   "source": [
    "urlairflow = 'https://mapr-web.advantagedp.org:20202/ws/v1/cluster/apps?user=ingest_pipeline-s&finalStatus=SUCCEEDED&startedTimeBegin=1568491200000'\n",
    "urlelastic = \"https://elasticsearch-enterprise-search-prod.apps.devops.advantagedp.org\"\n",
    "authairflow = HTTPBasicAuth('devops_apps_pol-s', 'z56fCgvBq6ECBomi')\n",
    "authelastic = HTTPBasicAuth('elastic', 'G4ahrYq4m6Vj6ApbgS4D')\n",
    "authingest = HTTPBasicAuth( 'ingest_pipeline-s','1Rt.d5WssojT.2')"
   ]
  },
  {
   "cell_type": "code",
   "execution_count": null,
   "metadata": {},
   "outputs": [
    {
     "ename": "",
     "evalue": "",
     "output_type": "error",
     "traceback": [
      "\u001b[1;31mRunning cells with 'Python 3.8.2 ('venv2airflow')' requires ipykernel package.\n",
      "\u001b[1;31mRun the following command to install 'ipykernel' into the Python environment. \n",
      "\u001b[1;31mCommand: '/home/radekt/venv2airflow/bin/python3.8 -m pip install ipykernel -U --force-reinstall'"
     ]
    }
   ],
   "source": [
    "#1Rt.d5WssojT.2\n",
    "#curl -k  -u ingest_pipeline-s -X GET \"https://mapr-web.advantagedp.org:20202/ws/v1/cluster/apps?user=ingest_pipeline-s&finalStatus=SUCCEEDED&startedTimeBegin=1568491200000\"\n",
    "#proxies = {'http': 'socks5h://192.168.67.2:1081','https': 'socks5h://192.168.67.2:1081'}\n",
    "authingest = HTTPBasicAuth( 'ingest_pipeline-s','1Rt.d5WssojT.2')\n",
    "urlingest = \"https://mapr-web.advantagedp.org:20202/ws/v1/cluster/apps?user=ingest_pipeline-s&finalStatus=SUCCEEDED&startedTimeBegin=1568491200000\" \n",
    "q = requests.get(urlingest, auth=authingest, proxies=proxies, verify=False)"
   ]
  },
  {
   "cell_type": "code",
   "execution_count": null,
   "metadata": {},
   "outputs": [
    {
     "ename": "",
     "evalue": "",
     "output_type": "error",
     "traceback": [
      "\u001b[1;31mRunning cells with 'Python 3.8.2 ('venv2airflow')' requires ipykernel package.\n",
      "\u001b[1;31mRun the following command to install 'ipykernel' into the Python environment. \n",
      "\u001b[1;31mCommand: '/home/radekt/venv2airflow/bin/python3.8 -m pip install ipykernel -U --force-reinstall'"
     ]
    }
   ],
   "source": [
    "import json \n",
    "tekst = q.text\n",
    "begin = tekst.index('[')\n",
    "end = tekst.index(']')\n"
   ]
  },
  {
   "cell_type": "code",
   "execution_count": null,
   "metadata": {},
   "outputs": [
    {
     "ename": "",
     "evalue": "",
     "output_type": "error",
     "traceback": [
      "\u001b[1;31mRunning cells with 'Python 3.8.2 ('venv2airflow')' requires ipykernel package.\n",
      "\u001b[1;31mRun the following command to install 'ipykernel' into the Python environment. \n",
      "\u001b[1;31mCommand: '/home/radekt/venv2airflow/bin/python3.8 -m pip install ipykernel -U --force-reinstall'"
     ]
    }
   ],
   "source": [
    "q = tekst[begin+1:end]\n",
    "import ast\n",
    "slownik = {\"id\":[\"application_1660460142322_362426\",'A'],\"user\":\"ingest_pipeline-s\",\"name\":\"SessionIngestJob-session-metadata_6a1c2594-5328-410e-a73e-01823e75f839\",\"queue\":\"root.projects.project_ingest_pipeline_processing\",\"state\":\"FINISHED\",\"finalStatus\":\"SUCCEEDED\",\"progress\":100.0,\"trackingUI\":\"History\",\"trackingUrl\":\"https://bmwdpmesp000006.advantagedp.org:8090/proxy/application_1660460142322_362426/\",\"diagnostics\":\"\",\"clusterId\":1660460142322,\"applicationType\":\"SPARK\",\"applicationTags\":\"b36b8867fbf24b959e915015ad8514d4\",\"startedTime\":1661421629865,\"finishedTime\":1661421715081,\"elapsedTime\":85216,\"amContainerLogs\":\"https://bmwdpdesp000239.advantagedp.org:8044/node/containerlogs/container_1660460142322_362426_01_000001/ingest_pipeline-s\",\"amHostHttpAddress\":\"bmwdpdesp000239.advantagedp.org:8044\",\"allocatedMB\":-1,\"allocatedVCores\":-1,\"runningContainers\":-1,\"memorySeconds\":14815430,\"vcoreSeconds\":7137,\"preemptedResourceMB\":0,\"preemptedResourceVCores\":0,\"numNonAMContainerPreempted\":0,\"numAMContainerPreempted\":0}\n",
    "\n",
    "\n"
   ]
  },
  {
   "cell_type": "code",
   "execution_count": null,
   "metadata": {},
   "outputs": [
    {
     "ename": "",
     "evalue": "",
     "output_type": "error",
     "traceback": [
      "\u001b[1;31mRunning cells with 'Python 3.8.2 ('venv2airflow')' requires ipykernel package.\n",
      "\u001b[1;31mRun the following command to install 'ipykernel' into the Python environment. \n",
      "\u001b[1;31mCommand: '/home/radekt/venv2airflow/bin/python3.8 -m pip install ipykernel -U --force-reinstall'"
     ]
    }
   ],
   "source": [
    "df = pd.DataFrame(slownik)"
   ]
  },
  {
   "cell_type": "code",
   "execution_count": null,
   "metadata": {},
   "outputs": [
    {
     "ename": "",
     "evalue": "",
     "output_type": "error",
     "traceback": [
      "\u001b[1;31mRunning cells with 'Python 3.8.2 ('venv2airflow')' requires ipykernel package.\n",
      "\u001b[1;31mRun the following command to install 'ipykernel' into the Python environment. \n",
      "\u001b[1;31mCommand: '/home/radekt/venv2airflow/bin/python3.8 -m pip install ipykernel -U --force-reinstall'"
     ]
    }
   ],
   "source": [
    "df\n"
   ]
  }
 ],
 "metadata": {
  "kernelspec": {
   "display_name": "Python 3.8.2 ('venv2airflow')",
   "language": "python",
   "name": "python3"
  },
  "language_info": {
   "codemirror_mode": {
    "name": "ipython",
    "version": 3
   },
   "file_extension": ".py",
   "mimetype": "text/x-python",
   "name": "python",
   "nbconvert_exporter": "python",
   "pygments_lexer": "ipython3",
   "version": "3.8.2"
  },
  "orig_nbformat": 4,
  "vscode": {
   "interpreter": {
    "hash": "830a681f0e600863535f4d54d8def7b235912edc63749029f978fa66da05c05b"
   }
  }
 },
 "nbformat": 4,
 "nbformat_minor": 2
}
